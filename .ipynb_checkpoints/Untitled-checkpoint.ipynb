{
 "cells": [
  {
   "cell_type": "code",
   "execution_count": 5,
   "metadata": {},
   "outputs": [
    {
     "ename": "SyntaxError",
     "evalue": "invalid syntax (<ipython-input-5-40e73c9dfa74>, line 48)",
     "output_type": "error",
     "traceback": [
      "\u001b[0;36m  File \u001b[0;32m\"<ipython-input-5-40e73c9dfa74>\"\u001b[0;36m, line \u001b[0;32m48\u001b[0m\n\u001b[0;31m    ue = Expression(\"exp(-(x[0]*x[0]+x[1]*x[1])/(4*a*t))/(4*pi*a*t)\", degree = 2; a=k_coeff, t=1e-7, domain=mesh)\u001b[0m\n\u001b[0m                                                                                ^\u001b[0m\n\u001b[0;31mSyntaxError\u001b[0m\u001b[0;31m:\u001b[0m invalid syntax\n"
     ]
    }
   ],
   "source": [
    "%matplotlib inline\n",
    "from dolfin import *; \n",
    "from mshr import *; \n",
    "from IPython.display import display, clear_output; \n",
    "import time\n",
    "import logging; \n",
    "logging.getLogger('FFC').setLevel(logging.WARNING)\n",
    "\n",
    "# Compact plot utility function\n",
    "def plot_compact(u, t, stepcounter): \n",
    "    if stepcounter % 5 == 0:\n",
    "        uEuclidnorm = project(u, V); ax.cla(); fig = plt.gcf(); fig.set_size_inches(16, 6.5)\n",
    "        plt.subplot(1, 2, 1); mplot_function(uEuclidnorm); plt.title(\"Heat\") # Plot norm of velocity\n",
    "        if t == 0.: plt.colorbar(); plt.axis(G)\n",
    "        plt.subplot(1, 2, 2);\n",
    "        if t == 0.: plt.triplot(mesh2triang(mesh)); plt.title(\"Mesh\") # Plot mesh\n",
    "        plt.suptitle(\"Heat - t: %f\" % (t)); plt.tight_layout(); clear_output(wait=True);    \n",
    "\n",
    "\n",
    "######## Important code begins here ########\n",
    "\n",
    "# Define domain and mesh\n",
    "XMIN, XMAX = -2., 2.; \n",
    "YMIN, YMAX = -2., 2.; \n",
    "G = [XMIN, XMAX, YMIN, YMAX];\n",
    "mresolution = 20;\n",
    "mesh = generate_mesh(Rectangle(Point(G[0], G[2]), Point(G[1], G[3])), mresolution)\n",
    "\n",
    "# Define finite element function space\n",
    "degree = 1;\n",
    "V = FunctionSpace(mesh, \"CG\", degree);\n",
    "\n",
    "# Finite element functions\n",
    "v = TestFunction(V); \n",
    "u = Function(V);\n",
    "\n",
    "# Define boundary conditions\n",
    "def boundary(x, on_boundary):\n",
    "    return on_boundary\n",
    "\n",
    "# Time parameters\n",
    "theta = 1.0 # Implicit Euler\n",
    "k = 0.5; # Time step\n",
    "t, T = 0., 20.; # Start and end time\n",
    "\n",
    "# Exact solution\n",
    "k_coeff = 1\n",
    "ue = Expression(\"exp(-(x[0]*x[0]+x[1]*x[1])/(4*a*t))/(4*pi*a*t)\", degree=2, a=k_coeff, t=1e-7, domain=mesh) \n",
    "u0 = ue;\n",
    "\n",
    "bc = DirichletBC(V, ue, boundary)\n",
    "\n",
    "# Inititalize time stepping\n",
    "pl, ax = plt.subplots(); \n",
    "stepcounter = 0; \n",
    "timer0 = time.clock()\n",
    "\n",
    "# Time-stepping loop\n",
    "while t < T: \n",
    "    # Time scheme\n",
    "    um = theta*u + (1.0-theta)*u0 \n",
    "    \n",
    "    # Weak form of the heat equation in residual form\n",
    "    r = (u - u0)/k*v*dx + k_coeff*inner(grad(um), grad(v))*dx \n",
    "    \n",
    "    # Solve the Heat equation (one timestep)\n",
    "    solve(r==0, u, bc)  \n",
    "    \n",
    "    # Plot all quantities (see implementation above)\n",
    "    plot_compact(u, t, stepcounter)\n",
    "    \n",
    "    # Shift to next timestep\n",
    "    t += k; u0 = project(u, V); \n",
    "    ue.t = t;\n",
    "    stepcounter += 1 \n",
    "    \n",
    "print(\"elapsed CPU time: \", (time.clock() - timer0))  "
   ]
  },
  {
   "cell_type": "code",
   "execution_count": null,
   "metadata": {},
   "outputs": [],
   "source": []
  }
 ],
 "metadata": {
  "kernelspec": {
   "display_name": "Python 3",
   "language": "python",
   "name": "python3"
  },
  "language_info": {
   "codemirror_mode": {
    "name": "ipython",
    "version": 3
   },
   "file_extension": ".py",
   "mimetype": "text/x-python",
   "name": "python",
   "nbconvert_exporter": "python",
   "pygments_lexer": "ipython3",
   "version": "3.7.3"
  }
 },
 "nbformat": 4,
 "nbformat_minor": 2
}
